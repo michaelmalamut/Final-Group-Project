{
 "cells": [
  {
   "cell_type": "markdown",
   "metadata": {},
   "source": [
    "# Preprocessing All Data and Retain Data For Training"
   ]
  },
  {
   "cell_type": "code",
   "execution_count": 2,
   "metadata": {},
   "outputs": [],
   "source": [
    "import pandas as pd\n",
    "import numpy as np\n",
    "\n",
    "df = pd.read_csv('Resources/worldbank_all-data.csv')"
   ]
  },
  {
   "cell_type": "code",
   "execution_count": 2,
   "metadata": {},
   "outputs": [],
   "source": [
    "# Arrays for for loops\n",
    "countries = ['ABW', 'ASM', 'BEL', 'BRB', 'AFG', 'BRN', 'ALB', 'AND', 'AGO',\n",
    "       'CUW', 'DMA', 'GIN', 'GRD', 'ARG', 'ARM', 'ATG', 'AUT', 'AUS',\n",
    "       'AZE', 'BDI', 'BFA', 'BGR', 'BHR', 'BHS', 'BLR', 'BLZ', 'BMU',\n",
    "       'BEN', 'BGD', 'BTN', 'BIH', 'CAN', 'CHI', 'BOL', 'BRA', 'CHN',\n",
    "       'CPV', 'CUB', 'CYM', 'BWA', 'CAF', 'DZA', 'HRV', 'KHM', 'TCD',\n",
    "       'VGB', 'CHL', 'COD', 'CIV', 'COG', 'COM', 'COL', 'CYP', 'CZE',\n",
    "       'DEU', 'CRI', 'DJI', 'DNK', 'ECU', 'ERI', 'FIN', 'FJI', 'FRA',\n",
    "       'FRO', 'GIB', 'DOM', 'ETH', 'EGY', 'GNQ', 'EST', 'GRC', 'GRL',\n",
    "       'GAB', 'GHA', 'GEO', 'GMB', 'GNB', 'GTM', 'GUM', 'HTI', 'JPN',\n",
    "       'GUY', 'NOR', 'HKG', 'XKX', 'HND', 'HUN', 'IMN', 'IDN', 'IND',\n",
    "       'IRL', 'IRQ', 'IRN', 'ISL', 'ISR', 'JAM', 'JOR', 'ITA', 'PYF',\n",
    "       'SLV', 'SWZ', 'FSM', 'KAZ', 'KIR', 'KOR', 'LBN', 'LBR', 'LBY',\n",
    "       'LIE', 'LSO', 'LTU', 'LUX', 'LVA', 'KEN', 'KGZ', 'MAC', 'MCO',\n",
    "       'KWT', 'LAO', 'MDV', 'MEX', 'MHL', 'MAR', 'MLI', 'MMR', 'MNE',\n",
    "       'MDA', 'MNP', 'MDG', 'MOZ', 'MWI', 'NAM', 'NCL', 'MKD', 'NER',\n",
    "       'NGA', 'NIC', 'NLD', 'MLT', 'NPL', 'OMN', 'PRK', 'MNG', 'MRT',\n",
    "       'MUS', 'KNA', 'LCA', 'MAF', 'MYS', 'NZL', 'PAK', 'ESP', 'LKA',\n",
    "       'PAN', 'PER', 'PHL', 'PLW', 'SYC', 'PNG', 'POL', 'PRI', 'PRT',\n",
    "       'QAT', 'PRY', 'RUS', 'SAU', 'SGP', 'SMR', 'ROU', 'RWA', 'SEN',\n",
    "       'SLB', 'SOM', 'SLE', 'SSD', 'STP', 'SRB', 'SVK', 'SVN', 'SXM',\n",
    "       'WSM', 'ARE', 'GBR', 'ZAF', 'SDN', 'SUR', 'SWE', 'TCA', 'CHE',\n",
    "       'TKM', 'TLS', 'TON', 'TTO', 'TUV', 'SYR', 'USA', 'VCT', 'VEN',\n",
    "       'VIR', 'TGO', 'TJK', 'VNM', 'THA', 'VUT', 'YEM', 'TUN', 'TZA',\n",
    "       'UGA', 'UKR', 'URY', 'UZB', 'ZMB', 'ZWE']\n",
    "\n",
    "years = ['1960', '1961', '1962', '1963', '1964', '1965', '1966', '1967', '1968',\n",
    "       '1969', '1970', '1971', '1972', '1973', '1974', '1975', '1976', '1977',\n",
    "       '1978', '1979', '1980', '1981', '1982', '1983', '1984', '1985', '1986',\n",
    "       '1987', '1988', '1989', '1990', '1991', '1992', '1993', '1994', '1995',\n",
    "       '1996','1997', '1998', '1999']"
   ]
  },
  {
   "cell_type": "code",
   "execution_count": 3,
   "metadata": {},
   "outputs": [
    {
     "name": "stderr",
     "output_type": "stream",
     "text": [
      "/Users/rmtmacbook/opt/anaconda3/lib/python3.9/site-packages/pandas/core/frame.py:4906: SettingWithCopyWarning: \n",
      "A value is trying to be set on a copy of a slice from a DataFrame\n",
      "\n",
      "See the caveats in the documentation: https://pandas.pydata.org/pandas-docs/stable/user_guide/indexing.html#returning-a-view-versus-a-copy\n",
      "  return super().drop(\n"
     ]
    }
   ],
   "source": [
    "# Per-country .csv generation loop\n",
    "for country in countries:\n",
    "\n",
    "    # Create per-country dataframe\n",
    "    df1 = df.loc[df['country_code'] == country]\n",
    "\n",
    "    # Drop unnecessary columns\n",
    "    df1.drop('country_name', axis=1, inplace=True)\n",
    "    df1.drop('country_code', axis=1, inplace=True)\n",
    "    df1.drop('indicator_name', axis=1, inplace=True)\n",
    "\n",
    "    # Retain index pre-transposing\n",
    "    df1.set_index('indicator_code', inplace=True)\n",
    "\n",
    "    # Transpose matrix (rows are now years)\n",
    "    dfT = df1.T\n",
    "\n",
    "    # Drop 1960 to 1999\n",
    "    for year in years:\n",
    "        dfT = dfT.drop(year, axis=0)\n",
    "\n",
    "    # Export per-country .csv\n",
    "    dfT.to_csv('Countries/' + country + '.csv')"
   ]
  },
  {
   "cell_type": "code",
   "execution_count": 4,
   "metadata": {},
   "outputs": [],
   "source": [
    "# Process country.csv and eliminate empty data\n",
    "for country in countries:\n",
    "    df = pd.read_csv('Countries/' + country + '.csv')\n",
    "\n",
    "    # Replace NaN with str for readability\n",
    "    df.fillna('BLANK', inplace=True)\n",
    "\n",
    "    indicators = df.columns\n",
    "\n",
    "    for indicator in indicators:\n",
    "        blank_count = (df[indicator].value_counts(dropna=False)).to_dict()\n",
    "\n",
    "        # Count str to retain columns with 90% data points\n",
    "        if 'BLANK' in blank_count:\n",
    "            if blank_count[\"BLANK\"] > 2:\n",
    "                df.drop(indicator, axis=1, inplace=True)\n",
    "            else:\n",
    "                pass\n",
    "        else:\n",
    "            pass\n",
    "    \n",
    "    # Replace str with NaN to calculate means\n",
    "    df.replace ('BLANK', np.nan, inplace=True)\n",
    "    df = df.mean(skipna=True).to_frame().T\n",
    "    df.drop('Unnamed: 0', axis=1, inplace=True)\n",
    "    df.rename(index={0: country}, inplace=True)\n",
    "    df.to_csv('Countries_adjusted/' + country + '.csv')"
   ]
  },
  {
   "cell_type": "code",
   "execution_count": 5,
   "metadata": {},
   "outputs": [],
   "source": [
    "# Obtain all indicator codes from .csv's to merge into one master list\n",
    "indicator_codes = []\n",
    "\n",
    "for country in countries:\n",
    "    df = pd.read_csv('Countries_adjusted/' + country + '.csv')\n",
    "\n",
    "    indicators = df.columns\n",
    "\n",
    "    for indicator in indicators:\n",
    "        if(indicator in indicator_codes):\n",
    "            pass\n",
    "        else:\n",
    "            indicator_codes.append(indicator)"
   ]
  },
  {
   "cell_type": "code",
   "execution_count": 6,
   "metadata": {},
   "outputs": [],
   "source": [
    "# Create empty dataframe for population\n",
    "df = pd.DataFrame(columns = indicator_codes, index = countries).drop('Unnamed: 0', axis=1)\n",
    "\n",
    "# Scan through all spreadsheets and populate their information into the dataframe\n",
    "for country in countries:\n",
    "    df_c = pd.read_csv('Countries_adjusted/' + country + '.csv').drop('Unnamed: 0', axis=1).rename(index={0: country})\n",
    "    for col in df_c.columns:\n",
    "        df.loc[country, col] = df_c.loc[country, col]"
   ]
  },
  {
   "cell_type": "code",
   "execution_count": 7,
   "metadata": {},
   "outputs": [],
   "source": [
    "# Utilize same algorithm to process master list\n",
    "df.fillna('BLANK', inplace=True)\n",
    "\n",
    "indicator_codes = df.columns\n",
    "\n",
    "for indicator in indicator_codes:\n",
    "    blank_count = (df[indicator].value_counts(dropna=False)).to_dict()\n",
    "\n",
    "    # Still retaining 90% data points\n",
    "    if 'BLANK' in blank_count:\n",
    "        if blank_count[\"BLANK\"] > 21:\n",
    "            df.drop(indicator, axis=1, inplace=True)\n",
    "        else:\n",
    "            pass\n",
    "    else:\n",
    "        pass\n",
    "\n",
    "df.replace ('BLANK', np.nan, inplace=True)\n",
    "df.to_csv('Resources/worldbank_data.csv')\n"
   ]
  },
  {
   "cell_type": "code",
   "execution_count": 3,
   "metadata": {},
   "outputs": [
    {
     "data": {
      "text/plain": [
       "Index(['Unnamed: 0', 'SP.RUR.TOTL.ZG', 'SP.DYN.LE00.MA.IN', 'SP.DYN.CDRT.IN',\n",
       "       'SE.SEC.AGES', 'TT.PRI.MRCH.XD.WD', 'TM.VAL.MRCH.HI.ZS',\n",
       "       'SP.URB.TOTL.IN.ZS', 'SP.POP.TOTL', 'NY.ADJ.AEDU.GN.ZS',\n",
       "       'TM.VAL.MRCH.WL.CD', 'SE.PRM.DURS', 'NY.ADJ.DNGY.CD',\n",
       "       'TX.VAL.MRCH.RS.ZS', 'TX.VAL.MRCH.HI.ZS', 'TM.QTY.MRCH.XD.WD',\n",
       "       'SP.RUR.TOTL.ZS', 'SP.POP.GROW', 'SP.DYN.TFRT.IN', 'PA.NUS.ATLS',\n",
       "       'SP.URB.GROW', 'PA.NUS.FCRF', 'AG.LND.TOTL.K2', 'TX.QTY.MRCH.XD.WD',\n",
       "       'SE.PRM.AGES', 'SP.URB.TOTL', 'NY.ADJ.DMIN.CD', 'EG.ELC.ACCS.UR.ZS',\n",
       "       'TX.UVI.MRCH.XD.WD', 'SP.DYN.CBRT.IN', 'SP.DYN.LE00.FE.IN',\n",
       "       'SH.TBS.INCD', 'EG.ELC.ACCS.ZS', 'TM.VAL.MRCH.XD.WD', 'SP.RUR.TOTL',\n",
       "       'SP.DYN.LE00.IN', 'AG.LND.FRST.K2', 'EN.POP.DNST', 'AG.LND.FRST.ZS',\n",
       "       'SE.SEC.DURS', 'NY.ADJ.DCO2.CD', 'TX.VAL.MRCH.XD.WD',\n",
       "       'TM.VAL.MRCH.RS.ZS', 'TX.VAL.MRCH.WL.CD', 'TM.UVI.MRCH.XD.WD',\n",
       "       'NY.GDP.MKTP.CD', 'NY.GDP.PCAP.CD', 'NY.GDP.PCAP.CN', 'NY.GDP.MKTP.CN'],\n",
       "      dtype='object')"
      ]
     },
     "execution_count": 3,
     "metadata": {},
     "output_type": "execute_result"
    }
   ],
   "source": [
    "# Obtain columns for new SQL table\n",
    "df.columns"
   ]
  },
  {
   "cell_type": "markdown",
   "metadata": {},
   "source": [
    "# Web-scraping Algorithm To Obtain Actual Indicator Names For Visualizations"
   ]
  },
  {
   "cell_type": "code",
<<<<<<< HEAD
   "execution_count": 1,
=======
   "execution_count": 24,
>>>>>>> 2ad783a3e442c61c4643284362b6a32954d549a1
   "metadata": {},
   "outputs": [
    {
     "name": "stdout",
     "output_type": "stream",
     "text": [
      "\n"
     ]
    },
    {
     "name": "stderr",
     "output_type": "stream",
     "text": [
      "[WDM] - ====== WebDriver manager ======\n",
      "INFO:WDM:====== WebDriver manager ======\n",
      "[WDM] - Current google-chrome version is 102.0.5005\n",
      "INFO:WDM:Current google-chrome version is 102.0.5005\n",
      "[WDM] - Get LATEST chromedriver version for 102.0.5005 google-chrome\n",
      "INFO:WDM:Get LATEST chromedriver version for 102.0.5005 google-chrome\n",
      "[WDM] - About to download new driver from https://chromedriver.storage.googleapis.com/102.0.5005.61/chromedriver_win32.zip\n",
      "INFO:WDM:About to download new driver from https://chromedriver.storage.googleapis.com/102.0.5005.61/chromedriver_win32.zip\n",
      "[WDM] - Driver has been saved in cache [C:\\Users\\thepl\\.wdm\\drivers\\chromedriver\\win32\\102.0.5005.61]\n",
      "INFO:WDM:Driver has been saved in cache [C:\\Users\\thepl\\.wdm\\drivers\\chromedriver\\win32\\102.0.5005.61]\n"
     ]
    }
   ],
   "source": [
    "from splinter import Browser\n",
    "from bs4 import BeautifulSoup as soup\n",
    "from webdriver_manager.chrome import ChromeDriverManager\n",
    "\n",
    "executable_path = {'executable_path': ChromeDriverManager().install()}\n",
    "browser = Browser('chrome', **executable_path, headless=False)"
   ]
  },
  {
   "cell_type": "code",
<<<<<<< HEAD
   "execution_count": 3,
   "metadata": {},
   "outputs": [
    {
     "name": "stdout",
     "output_type": "stream",
     "text": [
      "<h1 data-reactid=\"151\">Rural population growth (annual %)</h1>\n"
     ]
=======
   "execution_count": 25,
   "metadata": {},
   "outputs": [
    {
     "data": {
      "text/plain": [
       "['Rural population growth (annual %)',\n",
       " 'Life expectancy at birth, male (years)',\n",
       " 'Death rate, crude (per 1,000 people)',\n",
       " 'Lower secondary school starting age (years)',\n",
       " 'Net barter terms of trade index (2000 = 100)',\n",
       " 'Merchandise imports from high-income economies (% of total merchandise imports)',\n",
       " 'Urban population (% of total population)',\n",
       " 'Population, total',\n",
       " 'Adjusted savings: education expenditure (% of GNI)',\n",
       " 'Merchandise imports by the reporting economy (current US$)',\n",
       " 'Primary education, duration (years)',\n",
       " 'Adjusted savings: energy depletion (current US$)',\n",
       " 'Merchandise exports by the reporting economy, residual (% of total merchandise exports)',\n",
       " 'Merchandise exports to high-income economies (% of total merchandise exports)',\n",
       " 'Import volume index (2000 = 100)',\n",
       " 'Rural population (% of total population)',\n",
       " 'Population growth (annual %)',\n",
       " 'Fertility rate, total (births per woman)',\n",
       " 'DEC alternative conversion factor (LCU per US$)',\n",
       " 'Urban population growth (annual %)',\n",
       " 'Official exchange rate (LCU per US$, period average)',\n",
       " 'Land area (sq. km)',\n",
       " 'Export volume index (2000 = 100)',\n",
       " 'Primary school starting age (years)',\n",
       " 'Urban population',\n",
       " 'Adjusted savings: mineral depletion (current US$)',\n",
       " 'Access to electricity, urban (% of urban population)',\n",
       " 'Export unit value index (2000 = 100)',\n",
       " 'Birth rate, crude (per 1,000 people)',\n",
       " 'Life expectancy at birth, female (years)',\n",
       " 'Incidence of tuberculosis (per 100,000 people)',\n",
       " 'Access to electricity (% of population)',\n",
       " 'Import value index (2000 = 100)',\n",
       " 'Rural population',\n",
       " 'Life expectancy at birth, total (years)',\n",
       " 'Forest area (sq. km)',\n",
       " 'Population density (people per sq. km of land area)',\n",
       " 'Forest area (% of land area)',\n",
       " 'Secondary education, duration (years)',\n",
       " 'Adjusted savings: carbon dioxide damage (current US$)',\n",
       " 'Export value index (2000 = 100)',\n",
       " 'Merchandise imports by the reporting economy, residual (% of total merchandise imports)',\n",
       " 'Merchandise exports by the reporting economy (current US$)',\n",
       " 'Import unit value index (2000 = 100)',\n",
       " 'GDP (current US$)',\n",
       " 'GDP per capita (current US$)',\n",
       " 'GDP per capita (current LCU)',\n",
       " 'GDP (current LCU)']"
      ]
     },
     "execution_count": 25,
     "metadata": {},
     "output_type": "execute_result"
>>>>>>> 2ad783a3e442c61c4643284362b6a32954d549a1
    }
   ],
   "source": [
    "# Store columns in a list for web-scraping\n",
    "df = pd.read_csv('Resources/worldbank_data.csv')\n",
    "df.drop('Unnamed: 0', axis=1, inplace=True)\n",
    "retained_codes = df.columns\n",
    "\n",
    "# List to store indicators' full titles\n",
    "indicator_titles = []\n",
    "\n",
    "for code in retained_codes:\n",
    "    url = 'https://data.worldbank.org/indicator/' + code\n",
    "    browser.visit(url)\n",
    "    browser.is_element_present_by_css('div.list_text', wait_time=1)\n",
    "\n",
<<<<<<< HEAD
    "html = browser.html\n",
    "title_soup = soup(html, 'html.parser')\n",
    "slide_elem = title_soup.select_one('div.cardheader')\n",
    "print(slide_elem.find('h1'))"
=======
    "    html = browser.html\n",
    "    title_soup = soup(html, 'html.parser')\n",
    "    slide_elem = title_soup.select_one('div.cardheader')\n",
    "    title = slide_elem.find('h1').text\n",
    "    indicator_titles.append(title)\n",
    "\n",
    "indicator_titles"
>>>>>>> 2ad783a3e442c61c4643284362b6a32954d549a1
   ]
  },
  {
   "cell_type": "code",
   "execution_count": 9,
   "metadata": {},
   "outputs": [
    {
     "data": {
      "text/plain": [
       "'Rural population growth (annual %)'"
      ]
     },
     "execution_count": 9,
     "metadata": {},
     "output_type": "execute_result"
    }
   ],
   "source": [
    "slide_elem.find(\"h1\").text"
   ]
  },
  {
   "cell_type": "code",
   "execution_count": null,
   "metadata": {},
   "outputs": [],
   "source": []
  }
 ],
 "metadata": {
  "kernelspec": {
   "display_name": "Python 3.9.7 ('base')",
   "language": "python",
   "name": "python3"
  },
  "language_info": {
   "codemirror_mode": {
    "name": "ipython",
    "version": 3
   },
   "file_extension": ".py",
   "mimetype": "text/x-python",
   "name": "python",
   "nbconvert_exporter": "python",
   "pygments_lexer": "ipython3",
   "version": "3.9.7"
  },
  "orig_nbformat": 4,
  "vscode": {
   "interpreter": {
    "hash": "ab3ead85d657bcdb19d8619e55ed2b861ea890cedc3abee9652468c091b16b46"
   }
  }
 },
 "nbformat": 4,
 "nbformat_minor": 2
}
