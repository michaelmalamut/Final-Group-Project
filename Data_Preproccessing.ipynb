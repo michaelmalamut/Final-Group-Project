{
 "cells": [
  {
   "cell_type": "code",
   "execution_count": 1,
   "metadata": {},
   "outputs": [],
   "source": [
    "import pandas as pd\n",
    "import numpy as np\n",
    "\n",
    "df = pd.read_csv('Resources/worldbank_all-data.csv')"
   ]
  },
  {
   "cell_type": "code",
   "execution_count": 2,
   "metadata": {},
   "outputs": [],
   "source": [
    "# Arrays for for loops\n",
    "countries = ['ABW', 'ASM', 'BEL', 'BRB', 'AFG', 'BRN', 'ALB', 'AND', 'AGO',\n",
    "       'CUW', 'DMA', 'GIN', 'GRD', 'ARG', 'ARM', 'ATG', 'AUT', 'AUS',\n",
    "       'AZE', 'BDI', 'BFA', 'BGR', 'BHR', 'BHS', 'BLR', 'BLZ', 'BMU',\n",
    "       'BEN', 'BGD', 'BTN', 'BIH', 'CAN', 'CHI', 'BOL', 'BRA', 'CHN',\n",
    "       'CPV', 'CUB', 'CYM', 'BWA', 'CAF', 'DZA', 'HRV', 'KHM', 'TCD',\n",
    "       'VGB', 'CHL', 'COD', 'CIV', 'COG', 'COM', 'COL', 'CYP', 'CZE',\n",
    "       'DEU', 'CRI', 'DJI', 'DNK', 'ECU', 'ERI', 'FIN', 'FJI', 'FRA',\n",
    "       'FRO', 'GIB', 'DOM', 'ETH', 'EGY', 'GNQ', 'EST', 'GRC', 'GRL',\n",
    "       'GAB', 'GHA', 'GEO', 'GMB', 'GNB', 'GTM', 'GUM', 'HTI', 'JPN',\n",
    "       'GUY', 'NOR', 'HKG', 'XKX', 'HND', 'HUN', 'IMN', 'IDN', 'IND',\n",
    "       'IRL', 'IRQ', 'IRN', 'ISL', 'ISR', 'JAM', 'JOR', 'ITA', 'PYF',\n",
    "       'SLV', 'SWZ', 'FSM', 'KAZ', 'KIR', 'KOR', 'LBN', 'LBR', 'LBY',\n",
    "       'LIE', 'LSO', 'LTU', 'LUX', 'LVA', 'KEN', 'KGZ', 'MAC', 'MCO',\n",
    "       'KWT', 'LAO', 'MDV', 'MEX', 'MHL', 'MAR', 'MLI', 'MMR', 'MNE',\n",
    "       'MDA', 'MNP', 'MDG', 'MOZ', 'MWI', 'NAM', 'NCL', 'MKD', 'NER',\n",
    "       'NGA', 'NIC', 'NLD', 'MLT', 'NPL', 'OMN', 'PRK', 'MNG', 'MRT',\n",
    "       'MUS', 'KNA', 'LCA', 'MAF', 'MYS', 'NZL', 'PAK', 'ESP', 'LKA',\n",
    "       'PAN', 'PER', 'PHL', 'PLW', 'SYC', 'PNG', 'POL', 'PRI', 'PRT',\n",
    "       'QAT', 'PRY', 'RUS', 'SAU', 'SGP', 'SMR', 'ROU', 'RWA', 'SEN',\n",
    "       'SLB', 'SOM', 'SLE', 'SSD', 'STP', 'SRB', 'SVK', 'SVN', 'SXM',\n",
    "       'WSM', 'ARE', 'GBR', 'ZAF', 'SDN', 'SUR', 'SWE', 'TCA', 'CHE',\n",
    "       'TKM', 'TLS', 'TON', 'TTO', 'TUV', 'SYR', 'USA', 'VCT', 'VEN',\n",
    "       'VIR', 'TGO', 'TJK', 'VNM', 'THA', 'VUT', 'YEM', 'TUN', 'TZA',\n",
    "       'UGA', 'UKR', 'URY', 'UZB', 'ZMB', 'ZWE']\n",
    "\n",
    "years = ['1960', '1961', '1962', '1963', '1964', '1965', '1966', '1967', '1968',\n",
    "       '1969', '1970', '1971', '1972', '1973', '1974', '1975', '1976', '1977',\n",
    "       '1978', '1979', '1980', '1981', '1982', '1983', '1984', '1985', '1986',\n",
    "       '1987', '1988', '1989', '1990', '1991', '1992', '1993', '1994', '1995',\n",
    "       '1996','1997', '1998', '1999']"
   ]
  },
  {
   "cell_type": "code",
   "execution_count": 3,
   "metadata": {},
   "outputs": [
    {
     "name": "stderr",
     "output_type": "stream",
     "text": [
      "/Users/rmtmacbook/opt/anaconda3/lib/python3.9/site-packages/pandas/core/frame.py:4906: SettingWithCopyWarning: \n",
      "A value is trying to be set on a copy of a slice from a DataFrame\n",
      "\n",
      "See the caveats in the documentation: https://pandas.pydata.org/pandas-docs/stable/user_guide/indexing.html#returning-a-view-versus-a-copy\n",
      "  return super().drop(\n"
     ]
    }
   ],
   "source": [
    "# Per-country .csv generation loop\n",
    "for country in countries:\n",
    "\n",
    "    # Create per-country dataframe\n",
    "    df1 = df.loc[df['country_code'] == country]\n",
    "\n",
    "    # Drop unnecessary columns\n",
    "    df1.drop('country_name', axis=1, inplace=True)\n",
    "    df1.drop('country_code', axis=1, inplace=True)\n",
    "    df1.drop('indicator_name', axis=1, inplace=True)\n",
    "\n",
    "    # Retain index pre-transposing\n",
    "    df1.set_index('indicator_code', inplace=True)\n",
    "\n",
    "    # Transpose matrix (rows are now years)\n",
    "    dfT = df1.T\n",
    "\n",
    "    # Drop 1960 to 1999\n",
    "    for year in years:\n",
    "        dfT = dfT.drop(year, axis=0)\n",
    "\n",
    "    # Export per-country .csv\n",
    "    dfT.to_csv('Countries/' + country + '.csv')"
   ]
  },
  {
   "cell_type": "code",
   "execution_count": 4,
   "metadata": {},
   "outputs": [],
   "source": [
    "# Process country.csv and eliminate empty data\n",
    "for country in countries:\n",
    "    df = pd.read_csv('Countries/' + country + '.csv')\n",
    "\n",
    "    # Replace NaN with str for readability\n",
    "    df.fillna('BLANK', inplace=True)\n",
    "\n",
    "    indicators = df.columns\n",
    "\n",
    "    for indicator in indicators:\n",
    "        blank_count = (df[indicator].value_counts(dropna=False)).to_dict()\n",
    "\n",
    "        # Count str to retain columns with 90% data points\n",
    "        if 'BLANK' in blank_count:\n",
    "            if blank_count[\"BLANK\"] > 2:\n",
    "                df.drop(indicator, axis=1, inplace=True)\n",
    "            else:\n",
    "                pass\n",
    "        else:\n",
    "            pass\n",
    "    \n",
    "    # Replace str with NaN to calculate means\n",
    "    df.replace ('BLANK', np.nan, inplace=True)\n",
    "    df = df.mean(skipna=True).to_frame().T\n",
    "    df.drop('Unnamed: 0', axis=1, inplace=True)\n",
    "    df.rename(index={0: country}, inplace=True)\n",
    "    df.to_csv('Countries_adjusted/' + country + '.csv')"
   ]
  },
  {
   "cell_type": "code",
   "execution_count": 5,
   "metadata": {},
   "outputs": [],
   "source": [
    "# Obtain all indicator codes from .csv's to merge into one master list\n",
    "indicator_codes = []\n",
    "\n",
    "for country in countries:\n",
    "    df = pd.read_csv('Countries_adjusted/' + country + '.csv')\n",
    "\n",
    "    indicators = df.columns\n",
    "\n",
    "    for indicator in indicators:\n",
    "        if(indicator in indicator_codes):\n",
    "            pass\n",
    "        else:\n",
    "            indicator_codes.append(indicator)"
   ]
  },
  {
   "cell_type": "code",
   "execution_count": 6,
   "metadata": {},
   "outputs": [],
   "source": [
    "# Create empty dataframe for population\n",
    "df = pd.DataFrame(columns = indicator_codes, index = countries).drop('Unnamed: 0', axis=1)\n",
    "\n",
    "# Scan through all spreadsheets and populate their information into the dataframe\n",
    "for country in countries:\n",
    "    df_c = pd.read_csv('Countries_adjusted/' + country + '.csv').drop('Unnamed: 0', axis=1).rename(index={0: country})\n",
    "    for col in df_c.columns:\n",
    "        df.loc[country, col] = df_c.loc[country, col]"
   ]
  },
  {
   "cell_type": "code",
   "execution_count": 7,
   "metadata": {},
   "outputs": [],
   "source": [
    "# Utilize same algorithm to process master list\n",
    "df.fillna('BLANK', inplace=True)\n",
    "\n",
    "indicator_codes = df.columns\n",
    "\n",
    "for indicator in indicator_codes:\n",
    "    blank_count = (df[indicator].value_counts(dropna=False)).to_dict()\n",
    "\n",
    "    # Still retaining 90% data points\n",
    "    if 'BLANK' in blank_count:\n",
    "        if blank_count[\"BLANK\"] > 21:\n",
    "            df.drop(indicator, axis=1, inplace=True)\n",
    "        else:\n",
    "            pass\n",
    "    else:\n",
    "        pass\n",
    "\n",
    "df.replace ('BLANK', np.nan, inplace=True)\n",
    "df.to_csv('Resources/worldbank_data.csv')\n"
   ]
  }
 ],
 "metadata": {
  "interpreter": {
   "hash": "ab3ead85d657bcdb19d8619e55ed2b861ea890cedc3abee9652468c091b16b46"
  },
  "kernelspec": {
   "display_name": "Python 3.9.7 ('base')",
   "language": "python",
   "name": "python3"
  },
  "language_info": {
   "codemirror_mode": {
    "name": "ipython",
    "version": 3
   },
   "file_extension": ".py",
   "mimetype": "text/x-python",
   "name": "python",
   "nbconvert_exporter": "python",
   "pygments_lexer": "ipython3",
   "version": "3.9.7"
  },
  "orig_nbformat": 4
 },
 "nbformat": 4,
 "nbformat_minor": 2
}
